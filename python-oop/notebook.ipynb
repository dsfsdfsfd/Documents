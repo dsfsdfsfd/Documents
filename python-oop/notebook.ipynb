{
 "cells": [
  {
   "cell_type": "markdown",
   "metadata": {},
   "source": [
    "Xay dung class Softmax va softmax_stable nhận đầu vào là mảng 1 chiều(tensor 1 chiều) dựa vào kế thừa từ lớp Module và ghi đè vào phương thức forward()\n"
   ]
  },
  {
   "cell_type": "markdown",
   "metadata": {},
   "source": []
  }
 ],
 "metadata": {
  "language_info": {
   "name": "python"
  }
 },
 "nbformat": 4,
 "nbformat_minor": 2
}
